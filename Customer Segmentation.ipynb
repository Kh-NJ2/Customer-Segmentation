{
 "cells": [
  {
   "cell_type": "markdown",
   "id": "0e6e2ca3-2aa1-4180-938e-d6c0b714d862",
   "metadata": {},
   "source": [
    "# Customer Segmentation Project  \n",
    "\n",
    "## Objective  \n",
    "Cluster mall customers into distinct groups based on **annual income** and **spending score** to identify customer segments.  \n",
    "\n",
    "## Dataset  \n",
    "- **Source**: Mall Customer Dataset (Kaggle)  \n",
    "- **Problem Type**: Clustering (Unsupervised Learning)  \n",
    "- **Focus**: Finding optimal number of clusters and analyzing spending patterns  \n",
    "\n",
    "## Tools & Libraries   \n",
    "- **Pandas**: Data manipulation  \n",
    "- **Scikit-learn**: Scaling, K-Means  \n",
    "- **Matplotlib**: Visualization  "
   ]
  },
  {
   "cell_type": "code",
   "execution_count": 3,
   "id": "f9f3576b-f964-42a9-8c31-25af791b26a0",
   "metadata": {},
   "outputs": [],
   "source": [
    "import pandas as pd\n",
    "\n",
    "from sklearn.preprocessing import StandardScaler\n",
    "from sklearn.cluster import KMeans\n",
    "\n",
    "import matplotlib.pyplot as plt"
   ]
  },
  {
   "cell_type": "code",
   "execution_count": 4,
   "id": "68d75aa2-6620-4081-9d9b-16c4b510ff62",
   "metadata": {
    "jupyter": {
     "source_hidden": true
    }
   },
   "outputs": [],
   "source": [
    "df = pd.read_csv(\"Datasets/Mall_Customers.csv\")"
   ]
  },
  {
   "cell_type": "code",
   "execution_count": 6,
   "id": "50fb2440-bee2-499f-a1d9-78ea35f4b361",
   "metadata": {
    "collapsed": true,
    "jupyter": {
     "outputs_hidden": true
    }
   },
   "outputs": [
    {
     "name": "stdout",
     "output_type": "stream",
     "text": [
      "Drop missing values..\n",
      "Generate descriptive statistics: \n"
     ]
    },
    {
     "data": {
      "text/html": [
       "<div>\n",
       "<style scoped>\n",
       "    .dataframe tbody tr th:only-of-type {\n",
       "        vertical-align: middle;\n",
       "    }\n",
       "\n",
       "    .dataframe tbody tr th {\n",
       "        vertical-align: top;\n",
       "    }\n",
       "\n",
       "    .dataframe thead th {\n",
       "        text-align: right;\n",
       "    }\n",
       "</style>\n",
       "<table border=\"1\" class=\"dataframe\">\n",
       "  <thead>\n",
       "    <tr style=\"text-align: right;\">\n",
       "      <th></th>\n",
       "      <th>CustomerID</th>\n",
       "      <th>Age</th>\n",
       "      <th>Annual Income (k$)</th>\n",
       "      <th>Spending Score (1-100)</th>\n",
       "    </tr>\n",
       "  </thead>\n",
       "  <tbody>\n",
       "    <tr>\n",
       "      <th>count</th>\n",
       "      <td>200.000000</td>\n",
       "      <td>200.000000</td>\n",
       "      <td>200.000000</td>\n",
       "      <td>200.000000</td>\n",
       "    </tr>\n",
       "    <tr>\n",
       "      <th>mean</th>\n",
       "      <td>100.500000</td>\n",
       "      <td>38.850000</td>\n",
       "      <td>60.560000</td>\n",
       "      <td>50.200000</td>\n",
       "    </tr>\n",
       "    <tr>\n",
       "      <th>std</th>\n",
       "      <td>57.879185</td>\n",
       "      <td>13.969007</td>\n",
       "      <td>26.264721</td>\n",
       "      <td>25.823522</td>\n",
       "    </tr>\n",
       "    <tr>\n",
       "      <th>min</th>\n",
       "      <td>1.000000</td>\n",
       "      <td>18.000000</td>\n",
       "      <td>15.000000</td>\n",
       "      <td>1.000000</td>\n",
       "    </tr>\n",
       "    <tr>\n",
       "      <th>25%</th>\n",
       "      <td>50.750000</td>\n",
       "      <td>28.750000</td>\n",
       "      <td>41.500000</td>\n",
       "      <td>34.750000</td>\n",
       "    </tr>\n",
       "    <tr>\n",
       "      <th>50%</th>\n",
       "      <td>100.500000</td>\n",
       "      <td>36.000000</td>\n",
       "      <td>61.500000</td>\n",
       "      <td>50.000000</td>\n",
       "    </tr>\n",
       "    <tr>\n",
       "      <th>75%</th>\n",
       "      <td>150.250000</td>\n",
       "      <td>49.000000</td>\n",
       "      <td>78.000000</td>\n",
       "      <td>73.000000</td>\n",
       "    </tr>\n",
       "    <tr>\n",
       "      <th>max</th>\n",
       "      <td>200.000000</td>\n",
       "      <td>70.000000</td>\n",
       "      <td>137.000000</td>\n",
       "      <td>99.000000</td>\n",
       "    </tr>\n",
       "  </tbody>\n",
       "</table>\n",
       "</div>"
      ],
      "text/plain": [
       "       CustomerID         Age  Annual Income (k$)  Spending Score (1-100)\n",
       "count  200.000000  200.000000          200.000000              200.000000\n",
       "mean   100.500000   38.850000           60.560000               50.200000\n",
       "std     57.879185   13.969007           26.264721               25.823522\n",
       "min      1.000000   18.000000           15.000000                1.000000\n",
       "25%     50.750000   28.750000           41.500000               34.750000\n",
       "50%    100.500000   36.000000           61.500000               50.000000\n",
       "75%    150.250000   49.000000           78.000000               73.000000\n",
       "max    200.000000   70.000000          137.000000               99.000000"
      ]
     },
     "execution_count": 6,
     "metadata": {},
     "output_type": "execute_result"
    }
   ],
   "source": [
    "print(\"Drop missing values..\")\n",
    "df.dropna(inplace=True)\n",
    "print(\"Generate descriptive statistics: \")\n",
    "df.describe()"
   ]
  },
  {
   "cell_type": "markdown",
   "id": "8fc2e106-2315-46c6-863a-2c767906cee0",
   "metadata": {},
   "source": [
    "### 3. Feature Selection and Scaling  \n",
    "- Select features: **Annual Income (k$)** and **Spending Score (1-100)**  \n",
    "- Standardize features using **StandardScaler**  "
   ]
  },
  {
   "cell_type": "code",
   "execution_count": 7,
   "id": "56588426-a1da-4354-9f73-895fe15e7d58",
   "metadata": {},
   "outputs": [],
   "source": [
    "features = df[['Annual Income (k$)', 'Spending Score (1-100)']]\n",
    "scaler = StandardScaler()\n",
    "df[['Annual Income_S', 'Spending Score_S']] = scaler.fit_transform(features)"
   ]
  },
  {
   "cell_type": "markdown",
   "id": "5c8ab938-bf9b-4d55-98fa-b280c2bbab2e",
   "metadata": {},
   "source": [
    "### 4. Elbow Method for Optimal Clusters  \n",
    "- Train K-Means for `k = 1 … 8`  \n",
    "- Collect inertia values  \n",
    "- Plot inertia vs. number of clusters to identify optimal k "
   ]
  },
  {
   "cell_type": "code",
   "execution_count": 8,
   "id": "59bd2e00-03c3-4a45-9d46-f19d96d83964",
   "metadata": {},
   "outputs": [
    {
     "name": "stdout",
     "output_type": "stream",
     "text": [
      "<class 'function'>\n"
     ]
    },
    {
     "data": {
      "image/png": "[encoded data removed]",
      "text/plain": [
       "<Figure size 640x480 with 1 Axes>"
      ]
     },
     "metadata": {},
     "output_type": "display_data"
    }
   ],
   "source": [
    "inertias = []\n",
    "print(type(plt.xlabel))\n",
    "\n",
    "for i in range(1, 9):\n",
    "    kmeans = KMeans(n_clusters=i)\n",
    "    kmeans.fit(df[['Annual Income_S', 'Spending Score_S']])\n",
    "    inertias.append(kmeans.inertia_)\n",
    "\n",
    "plt.plot(range(1, 9), inertias)\n",
    "plt.grid(True)\n",
    "plt.xlabel(\"Number of Clusters\")\n",
    "plt.ylabel(\"Inertias\")\n",
    "plt.show()"
   ]
  },
  {
   "cell_type": "markdown",
   "id": "66ff27ac-9823-47f8-8421-1a7e4ba922db",
   "metadata": {},
   "source": [
    "### 5. Apply K-Means (k=5)  \n",
    "- Train K-Means with `k=5`  \n",
    "- Assign cluster labels to each customer in the dataset  "
   ]
  },
  {
   "cell_type": "code",
   "execution_count": 11,
   "id": "636ba52b-62cb-46c4-b865-0f87f03e9c94",
   "metadata": {},
   "outputs": [
    {
     "data": {
      "text/html": [
       "<div>\n",
       "<style scoped>\n",
       "    .dataframe tbody tr th:only-of-type {\n",
       "        vertical-align: middle;\n",
       "    }\n",
       "\n",
       "    .dataframe tbody tr th {\n",
       "        vertical-align: top;\n",
       "    }\n",
       "\n",
       "    .dataframe thead th {\n",
       "        text-align: right;\n",
       "    }\n",
       "</style>\n",
       "<table border=\"1\" class=\"dataframe\">\n",
       "  <thead>\n",
       "    <tr style=\"text-align: right;\">\n",
       "      <th></th>\n",
       "      <th>CustomerID</th>\n",
       "      <th>Genre</th>\n",
       "      <th>Age</th>\n",
       "      <th>Annual Income (k$)</th>\n",
       "      <th>Spending Score (1-100)</th>\n",
       "      <th>Annual Income_S</th>\n",
       "      <th>Spending Score_S</th>\n",
       "      <th>KMeans_5</th>\n",
       "    </tr>\n",
       "  </thead>\n",
       "  <tbody>\n",
       "    <tr>\n",
       "      <th>0</th>\n",
       "      <td>1</td>\n",
       "      <td>Male</td>\n",
       "      <td>19</td>\n",
       "      <td>15</td>\n",
       "      <td>39</td>\n",
       "      <td>-1.738999</td>\n",
       "      <td>-0.434801</td>\n",
       "      <td>4</td>\n",
       "    </tr>\n",
       "    <tr>\n",
       "      <th>1</th>\n",
       "      <td>2</td>\n",
       "      <td>Male</td>\n",
       "      <td>21</td>\n",
       "      <td>15</td>\n",
       "      <td>81</td>\n",
       "      <td>-1.738999</td>\n",
       "      <td>1.195704</td>\n",
       "      <td>3</td>\n",
       "    </tr>\n",
       "    <tr>\n",
       "      <th>2</th>\n",
       "      <td>3</td>\n",
       "      <td>Female</td>\n",
       "      <td>20</td>\n",
       "      <td>16</td>\n",
       "      <td>6</td>\n",
       "      <td>-1.700830</td>\n",
       "      <td>-1.715913</td>\n",
       "      <td>4</td>\n",
       "    </tr>\n",
       "    <tr>\n",
       "      <th>3</th>\n",
       "      <td>4</td>\n",
       "      <td>Female</td>\n",
       "      <td>23</td>\n",
       "      <td>16</td>\n",
       "      <td>77</td>\n",
       "      <td>-1.700830</td>\n",
       "      <td>1.040418</td>\n",
       "      <td>3</td>\n",
       "    </tr>\n",
       "    <tr>\n",
       "      <th>4</th>\n",
       "      <td>5</td>\n",
       "      <td>Female</td>\n",
       "      <td>31</td>\n",
       "      <td>17</td>\n",
       "      <td>40</td>\n",
       "      <td>-1.662660</td>\n",
       "      <td>-0.395980</td>\n",
       "      <td>4</td>\n",
       "    </tr>\n",
       "    <tr>\n",
       "      <th>...</th>\n",
       "      <td>...</td>\n",
       "      <td>...</td>\n",
       "      <td>...</td>\n",
       "      <td>...</td>\n",
       "      <td>...</td>\n",
       "      <td>...</td>\n",
       "      <td>...</td>\n",
       "      <td>...</td>\n",
       "    </tr>\n",
       "    <tr>\n",
       "      <th>195</th>\n",
       "      <td>196</td>\n",
       "      <td>Female</td>\n",
       "      <td>35</td>\n",
       "      <td>120</td>\n",
       "      <td>79</td>\n",
       "      <td>2.268791</td>\n",
       "      <td>1.118061</td>\n",
       "      <td>2</td>\n",
       "    </tr>\n",
       "    <tr>\n",
       "      <th>196</th>\n",
       "      <td>197</td>\n",
       "      <td>Female</td>\n",
       "      <td>45</td>\n",
       "      <td>126</td>\n",
       "      <td>28</td>\n",
       "      <td>2.497807</td>\n",
       "      <td>-0.861839</td>\n",
       "      <td>1</td>\n",
       "    </tr>\n",
       "    <tr>\n",
       "      <th>197</th>\n",
       "      <td>198</td>\n",
       "      <td>Male</td>\n",
       "      <td>32</td>\n",
       "      <td>126</td>\n",
       "      <td>74</td>\n",
       "      <td>2.497807</td>\n",
       "      <td>0.923953</td>\n",
       "      <td>2</td>\n",
       "    </tr>\n",
       "    <tr>\n",
       "      <th>198</th>\n",
       "      <td>199</td>\n",
       "      <td>Male</td>\n",
       "      <td>32</td>\n",
       "      <td>137</td>\n",
       "      <td>18</td>\n",
       "      <td>2.917671</td>\n",
       "      <td>-1.250054</td>\n",
       "      <td>1</td>\n",
       "    </tr>\n",
       "    <tr>\n",
       "      <th>199</th>\n",
       "      <td>200</td>\n",
       "      <td>Male</td>\n",
       "      <td>30</td>\n",
       "      <td>137</td>\n",
       "      <td>83</td>\n",
       "      <td>2.917671</td>\n",
       "      <td>1.273347</td>\n",
       "      <td>2</td>\n",
       "    </tr>\n",
       "  </tbody>\n",
       "</table>\n",
       "<p>200 rows × 8 columns</p>\n",
       "</div>"
      ],
      "text/plain": [
       "     CustomerID   Genre  Age  Annual Income (k$)  Spending Score (1-100)  \\\n",
       "0             1    Male   19                  15                      39   \n",
       "1             2    Male   21                  15                      81   \n",
       "2             3  Female   20                  16                       6   \n",
       "3             4  Female   23                  16                      77   \n",
       "4             5  Female   31                  17                      40   \n",
       "..          ...     ...  ...                 ...                     ...   \n",
       "195         196  Female   35                 120                      79   \n",
       "196         197  Female   45                 126                      28   \n",
       "197         198    Male   32                 126                      74   \n",
       "198         199    Male   32                 137                      18   \n",
       "199         200    Male   30                 137                      83   \n",
       "\n",
       "     Annual Income_S  Spending Score_S  KMeans_5  \n",
       "0          -1.738999         -0.434801         4  \n",
       "1          -1.738999          1.195704         3  \n",
       "2          -1.700830         -1.715913         4  \n",
       "3          -1.700830          1.040418         3  \n",
       "4          -1.662660         -0.395980         4  \n",
       "..               ...               ...       ...  \n",
       "195         2.268791          1.118061         2  \n",
       "196         2.497807         -0.861839         1  \n",
       "197         2.497807          0.923953         2  \n",
       "198         2.917671         -1.250054         1  \n",
       "199         2.917671          1.273347         2  \n",
       "\n",
       "[200 rows x 8 columns]"
      ]
     },
     "execution_count": 11,
     "metadata": {},
     "output_type": "execute_result"
    }
   ],
   "source": [
    "kmeans = KMeans(n_clusters=5)\n",
    "kmeans.fit(df[['Annual Income_S', 'Spending Score_S']])\n",
    "df[\"KMeans_5\"] = kmeans.labels_\n",
    "df"
   ]
  },
  {
   "cell_type": "markdown",
   "id": "856e2065-bd34-455e-b912-867b07c33dd6",
   "metadata": {},
   "source": [
    "### 6. Cluster Analysis  \n",
    "- Compute mean **Annual Income** and **Spending Score** per cluster  \n",
    "- Define function `categorize_cluster()` to label clusters as:  \n",
    "  - **High Value**: High income, high spending  \n",
    "  - **Conservative**: High income, low spending  \n",
    "  - **Aspirational**: Low income, high spending  \n",
    "  - **Constrained**: Low income, low spending  \n",
    "  - **Balanced**: Moderate income and spending  "
   ]
  },
  {
   "cell_type": "code",
   "execution_count": 12,
   "id": "9f9a2f80-ae22-4a88-b538-3e68861f4fb2",
   "metadata": {},
   "outputs": [],
   "source": [
    "average= df.groupby(\"KMeans_5\")[['Spending Score (1-100)', 'Annual Income (k$)']].mean()\n",
    "def categorize_cluster(income, spending):\n",
    "    if income > 60 and spending > 60:\n",
    "        return \"High Value\"\n",
    "    elif income > 60 and spending < 40:\n",
    "        return \"Conservative\" \n",
    "    elif income < 40 and spending > 60:\n",
    "        return \"Aspirational\"\n",
    "    elif income < 40 and spending < 40:\n",
    "        return \"Constrained\"\n",
    "    else:\n",
    "        return \"Balanced\"\n",
    "\n",
    "average['Category'] = average.apply(lambda row: categorize_cluster(\n",
    "    row['Annual Income (k$)'], \n",
    "    row['Spending Score (1-100)']), axis=1)\n",
    "\n",
    "clusters_labels = average['Category']\n",
    "colors = ['red', 'blue', 'green', 'orange', 'purple']"
   ]
  },
  {
   "cell_type": "markdown",
   "id": "8f665ab0-d969-4e0e-83d0-daa1c70787f3",
   "metadata": {},
   "source": [
    "### 7. Visualization  \n",
    "- Plot a 2D scatter plot of **Spending Score vs. Annual Income**  \n",
    "- Color each cluster differently  \n",
    "- Add legend with descriptive category labels  "
   ]
  },
  {
   "cell_type": "code",
   "execution_count": 13,
   "id": "87788b8f-74b1-4a56-9c38-70c185021e73",
   "metadata": {},
   "outputs": [
    {
     "data": {
      "image/png": "[encoded data removed]",
      "text/plain": [
       "<Figure size 700x600 with 1 Axes>"
      ]
     },
     "metadata": {},
     "output_type": "display_data"
    }
   ],
   "source": [
    "plt.figure(figsize=(7, 6))\n",
    "for i in range(5):\n",
    "    data = df[df['KMeans_5']==i]\n",
    "    plt.scatter(data['Spending Score (1-100)'], data['Annual Income (k$)'], c=colors[i], label=clusters_labels[i])\n",
    "plt.xlabel('Spending Score')\n",
    "plt.ylabel('Annual Income (k$)')\n",
    "plt.title('Customer Segments')\n",
    "plt.legend()\n",
    "plt.show()"
   ]
  }
 ],
 "metadata": {
  "kernelspec": {
   "display_name": "Python 3 (ipykernel)",
   "language": "python",
   "name": "python3"
  },
  "language_info": {
   "codemirror_mode": {
    "name": "ipython",
    "version": 3
   },
   "file_extension": ".py",
   "mimetype": "text/x-python",
   "name": "python",
   "nbconvert_exporter": "python",
   "pygments_lexer": "ipython3",
   "version": "3.12.10"
  }
 },
 "nbformat": 4,
 "nbformat_minor": 5
}
